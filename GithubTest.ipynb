{
 "cells": [
  {
   "cell_type": "code",
   "execution_count": null,
   "id": "2f11432e-9eb1-4d35-8496-b903ac96a226",
   "metadata": {},
   "outputs": [],
   "source": [
    "#This is a python scrsipt for testing github"
   ]
  }
 ],
 "metadata": {
  "kernelspec": {
   "display_name": "Python 3 (ipykernel)",
   "language": "python",
   "name": "python3"
  },
  "language_info": {
   "codemirror_mode": {
    "name": "ipython",
    "version": 3
   },
   "file_extension": ".py",
   "mimetype": "text/x-python",
   "name": "python",
   "nbconvert_exporter": "python",
   "pygments_lexer": "ipython3",
   "version": "3.9.13"
  }
 },
 "nbformat": 4,
 "nbformat_minor": 5
}
