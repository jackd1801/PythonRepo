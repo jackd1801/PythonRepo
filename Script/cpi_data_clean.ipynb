{
 "cells": [
  {
   "cell_type": "markdown",
   "id": "cc8540ef-a3f1-46aa-9907-ac02cb9aaffa",
   "metadata": {},
   "source": [
    "### Rwandan CPI data clean function\n",
    "\n",
    "The purpose of this notebook is to create a function for cleaning the Rwandan CPI data, ready for plotting on the dashboard. "
   ]
  },
  {
   "cell_type": "markdown",
   "id": "f758eba5-d811-4fbb-81f4-4bb850e9fd4e",
   "metadata": {
    "tags": []
   },
   "source": [
    "#### Section 1: Import Packages"
   ]
  },
  {
   "cell_type": "code",
   "execution_count": 1,
   "id": "2d1e4aa3-9646-48b8-a828-ad9223b0cb2e",
   "metadata": {},
   "outputs": [
    {
     "data": {
      "text/plain": [
       "'C:\\\\Users\\\\RPHC5\\\\Documents\\\\PythonRepo\\\\Script'"
      ]
     },
     "execution_count": 1,
     "metadata": {},
     "output_type": "execute_result"
    }
   ],
   "source": [
    "import os \n",
    "import numpy as np\n",
    "import pandas as pd\n",
    "\n",
    "os.getcwd()"
   ]
  },
  {
   "cell_type": "markdown",
   "id": "ed5bb87a-af93-48b9-b719-bfac9b78e18e",
   "metadata": {},
   "source": [
    "#### Section 2: Hard coded version of reading in CPI data"
   ]
  },
  {
   "cell_type": "code",
   "execution_count": 2,
   "id": "ba957c3f-7fc9-4c2c-92bd-b6c472fca7fc",
   "metadata": {},
   "outputs": [],
   "source": [
    "file = \"../Data/CPI_time_series_September_2022.xls\"\n",
    "\n",
    "rural = pd.read_excel(file, sheet_name=\"Rural\", skiprows=3)\n",
    "rural = rural.rename(columns={\"Unnamed: 0\": \"Province\", \"Unnamed: 1\": \"U_R\", \"Unnamed: 2\": \"COICOP\", \"Unnamed: 3\": \"Index\"})\n",
    "rural = rural.drop([0,19])\n",
    "rural['Index']=rural['Index'].str.replace('v', '')\n",
    "rural['Index']=rural['Index'].str.strip()\n",
    "rural = rural.melt(id_vars=['Province', 'U_R', 'COICOP', 'Index', 'Weights'], var_name='Date', value_name='CPI')\n",
    "rural['Level']='Rural'\n",
    "\n",
    "urban = pd.read_excel(file, sheet_name=\"Urban\", skiprows=3)\n",
    "urban = urban.rename(columns={\"Unnamed: 0\": \"Province\", \"Unnamed: 1\": \"U_R\", \"Unnamed: 2\": \"COICOP\", \"Unnamed: 3\": \"Index\"})\n",
    "urban = urban.drop([0,19])\n",
    "urban['Index']=urban['Index'].str.replace('v', '')\n",
    "urban['Index']=urban['Index'].str.strip()\n",
    "urban = urban.melt(id_vars=['Province', 'U_R', 'COICOP', 'Index', 'Weights'], var_name='Date', value_name='CPI')\n",
    "urban['Level'] = 'Urban'\n",
    "\n",
    "rwanda = pd.read_excel(file, sheet_name=\"All Rwanda\", skiprows=3)\n",
    "rwanda = rwanda.rename(columns={\"Unnamed: 0\": \"Province\", \"Unnamed: 1\": \"U_R\", \"Unnamed: 2\": \"COICOP\", \"Unnamed: 3\": \"Index\"})\n",
    "rwanda = rwanda.drop([0,19])\n",
    "rwanda['Index']=rwanda['Index'].str.replace('v', '')\n",
    "rwanda['Index']=rwanda['Index'].str.strip()\n",
    "rwanda = rwanda.melt(id_vars=['Province', 'U_R', 'COICOP', 'Index', 'Weights'], var_name='Date', value_name='CPI')\n",
    "rwanda['Level'] = 'All Rwanda'\n",
    "\n",
    "frames = [rural, urban, rwanda]\n",
    "combined =pd.concat(frames)"
   ]
  },
  {
   "cell_type": "markdown",
   "id": "1c5251b4-170b-45cd-9ae3-339c6fc3680e",
   "metadata": {},
   "source": [
    "#### Section 3: Solve for general case using for loop"
   ]
  },
  {
   "cell_type": "code",
   "execution_count": 3,
   "id": "04053e86-e0fe-4cce-83fc-adc8850bddf3",
   "metadata": {},
   "outputs": [],
   "source": [
    "## General case\n",
    "\n",
    "level = [\"Urban\", \"Rural\", \"All Rwanda\"]\n",
    "df_list=[]\n",
    "\n",
    "\n",
    "for i in level:\n",
    "    df = pd.read_excel(file, sheet_name=i, skiprows=3)\n",
    "    df = df.rename(columns={\"Unnamed: 0\": \"Province\", \"Unnamed: 1\": \"U_R\", \"Unnamed: 2\": \"COICOP\", \"Unnamed: 3\": \"Index\"})\n",
    "    df = df.drop([0,19])\n",
    "    df['Index']=df['Index'].str.replace('v', '')\n",
    "    df['Index']=df['Index'].str.strip()\n",
    "    df = df.melt(id_vars=['Province', 'U_R', 'COICOP', 'Index', 'Weights'], var_name='Date', value_name='CPI')\n",
    "    df['Level']=i\n",
    "    df_list.append(df)\n",
    "    \n",
    "combined1 = pd.concat(df_list)"
   ]
  },
  {
   "cell_type": "markdown",
   "id": "998b6b1b-77bc-4e97-83cc-5d02c8095bd6",
   "metadata": {},
   "source": [
    "#### Section 4: Create function using general case "
   ]
  },
  {
   "cell_type": "code",
   "execution_count": 7,
   "id": "b575a5ea-8927-485c-83bd-444e75bc1b92",
   "metadata": {},
   "outputs": [],
   "source": [
    "def cpi_data(file):\n",
    "    level = [\"Urban\", \"Rural\", \"All Rwanda\"]\n",
    "    df_list=[]\n",
    "    for i in level:\n",
    "            df = pd.read_excel(file, sheet_name=i, skiprows=3)\n",
    "            df = df.rename(columns={\"Unnamed: 0\": \"Province\", \"Unnamed: 1\": \"U_R\", \"Unnamed: 2\": \"COICOP\", \"Unnamed: 3\": \"Index\"})\n",
    "            df = df.drop([0,19])\n",
    "            df['Index']=df['Index'].str.replace('v', '')\n",
    "            df['Index']=df['Index'].str.strip()\n",
    "            df = df.melt(id_vars=['Province', 'U_R', 'COICOP', 'Index', 'Weights'], var_name='Date', value_name='CPI')\n",
    "            df['Level']=i\n",
    "            df_list.append(df)\n",
    "    cpi = pd.concat(df_list)\n",
    "    cpi.to_csv('../Output/cpilatest.csv')\n",
    "    return(cpi)"
   ]
  },
  {
   "cell_type": "code",
   "execution_count": null,
   "id": "ff8c643b-29e7-4484-bc36-055d4b22da8c",
   "metadata": {},
   "outputs": [],
   "source": []
  },
  {
   "cell_type": "code",
   "execution_count": 8,
   "id": "d975ddac-ea6e-475e-9018-6971a851ebb9",
   "metadata": {},
   "outputs": [],
   "source": [
    "file = \"../Data/CPI_time_series_December_2022.xls\"\n",
    "cpi = cpi_data(file)"
   ]
  },
  {
   "cell_type": "code",
   "execution_count": null,
   "id": "89b5d5f3-902d-4700-9a1d-504b814dcdac",
   "metadata": {},
   "outputs": [],
   "source": []
  }
 ],
 "metadata": {
  "kernelspec": {
   "display_name": "Python 3 (ipykernel)",
   "language": "python",
   "name": "python3"
  },
  "language_info": {
   "codemirror_mode": {
    "name": "ipython",
    "version": 3
   },
   "file_extension": ".py",
   "mimetype": "text/x-python",
   "name": "python",
   "nbconvert_exporter": "python",
   "pygments_lexer": "ipython3",
   "version": "3.9.13"
  }
 },
 "nbformat": 4,
 "nbformat_minor": 5
}
