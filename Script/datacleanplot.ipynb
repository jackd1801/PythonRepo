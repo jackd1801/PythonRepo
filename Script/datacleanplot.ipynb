{
 "cells": [
  {
   "cell_type": "code",
   "execution_count": 4,
   "id": "1ad872ab-76cf-46f4-ab06-e4093d37f7de",
   "metadata": {},
   "outputs": [],
   "source": [
    "import pandas as pd\n",
    "import numpy as np\n",
    "import plotly.express as px\n",
    "import calendar"
   ]
  },
  {
   "cell_type": "code",
   "execution_count": 8,
   "id": "0880a0a2-a8e0-439e-82fa-eeebd625bce1",
   "metadata": {},
   "outputs": [],
   "source": [
    "##Plot function \n",
    "\n",
    "def cpi_data(file):\n",
    "    level = [\"Urban\", \"Rural\", \"All Rwanda\"]\n",
    "    df_list=[]\n",
    "    for i in level:\n",
    "            df = pd.read_excel(file, sheet_name=i, skiprows=3)\n",
    "            df = df.rename(columns={\"Unnamed: 0\": \"Province\", \"Unnamed: 1\": \"U_R\", \"Unnamed: 2\": \"COICOP\", \"Unnamed: 3\": \"Index\"})\n",
    "            df = df.drop([0,19])\n",
    "            df['Index']=df['Index'].str.replace('v', '')\n",
    "            df['Index']=df['Index'].str.strip()\n",
    "            df = df.melt(id_vars=['Province', 'U_R', 'COICOP', 'Index', 'Weights'], var_name='Date', value_name='CPI')\n",
    "            df['Level']=i\n",
    "            df['Month']=df['Date'].dt.month_name(locale='English')\n",
    "            df['Year']=df['Date'].dt.year\n",
    "            df_list.append(df)\n",
    "    cpi = pd.concat(df_list)\n",
    "    cpi.to_csv('../Output/cpilatest.csv')\n",
    "    return(cpi)"
   ]
  },
  {
   "cell_type": "code",
   "execution_count": 79,
   "id": "8e3eb4de-536b-49e0-8e85-1cf405bf22c1",
   "metadata": {},
   "outputs": [],
   "source": [
    "def cpi_clean(data, month, geography, years, inflation):\n",
    "    options = calendar.month_name[1:]\n",
    "    dff = data.copy()\n",
    "    if month in options:\n",
    "        dff = dff[dff['Month']==month]\n",
    "    else: \n",
    "        dff = dff\n",
    "    dff = dff[dff['Level'].isin(geography)]\n",
    "    dff = dff[(dff.Year >= min(years)) & (dff.Year <= max(years))]\n",
    "    dff = dff.loc[dff[\"Index\"] == inflation]\n",
    "    return dff"
   ]
  },
  {
   "cell_type": "code",
   "execution_count": 7,
   "id": "a77c1424-cdb9-4284-9159-854ad60cc619",
   "metadata": {},
   "outputs": [],
   "source": [
    "def cpi_plot(dff, inflation):\n",
    "    fig = px.line(dff, x=\"Date\", y=\"CPI\", title=\"{}\".format(inflation), color=\"Level\",\n",
    "                  labels={\"Date\": \"\", \"CPI\": \"CPI\", \"Level\": \"Geography\"})\n",
    "    fig.update_layout(legend=dict(\n",
    "        orientation=\"h\",\n",
    "        yanchor=\"bottom\",\n",
    "        y=-0.3,\n",
    "        xanchor=\"center\",\n",
    "        x=0.5\n",
    "    ),\n",
    "        title={'y': 0.9,\n",
    "            'x': 0.5,\n",
    "            'xanchor': 'center',\n",
    "            'yanchor': 'top'}\n",
    "    )\n",
    "    return fig\n",
    "\n"
   ]
  },
  {
   "cell_type": "code",
   "execution_count": 84,
   "id": "cd90a312-9d95-4d47-942d-71cd9103cd94",
   "metadata": {},
   "outputs": [],
   "source": [
    "file = '../Data/CPI_time_series_December_2022.xls'\n",
    "month= ''\n",
    "geography = [\"All Rwanda\", \"Urban\"]\n",
    "inflation = \"GENERAL INDEX (CPI)\"\n",
    "years = [2010, 2022]\n",
    "dff2 = cpi_data(file)\n",
    "cleandata = cpi_clean(dff2, month, geography, years, inflation)\n",
    "plot1 = cpi_plot(cleandata, inflation)"
   ]
  },
  {
   "cell_type": "code",
   "execution_count": 91,
   "id": "c2935388-07fc-45ea-b535-a8c78a70701e",
   "metadata": {},
   "outputs": [
    {
     "data": {
      "text/plain": [
       "{2009: '2009',\n",
       " 2010: '2010',\n",
       " 2011: '2011',\n",
       " 2012: '2012',\n",
       " 2013: '2013',\n",
       " 2014: '2014',\n",
       " 2015: '2015',\n",
       " 2016: '2016',\n",
       " 2017: '2017',\n",
       " 2018: '2018',\n",
       " 2019: '2019',\n",
       " 2020: '2020',\n",
       " 2021: '2021',\n",
       " 2022: '2022'}"
      ]
     },
     "execution_count": 91,
     "metadata": {},
     "output_type": "execute_result"
    }
   ],
   "source": [
    "years = dff2['Date'].dt.year.unique().tolist()\n",
    "marks1 = {i: str(i) for i in years}"
   ]
  }
 ],
 "metadata": {
  "kernelspec": {
   "display_name": "Python 3 (ipykernel)",
   "language": "python",
   "name": "python3"
  },
  "language_info": {
   "codemirror_mode": {
    "name": "ipython",
    "version": 3
   },
   "file_extension": ".py",
   "mimetype": "text/x-python",
   "name": "python",
   "nbconvert_exporter": "python",
   "pygments_lexer": "ipython3",
   "version": "3.9.13"
  }
 },
 "nbformat": 4,
 "nbformat_minor": 5
}
