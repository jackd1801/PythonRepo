{
 "cells": [
  {
   "cell_type": "code",
   "execution_count": 8,
   "id": "ba9cfc7d-508f-4022-aa29-6da85d15a064",
   "metadata": {},
   "outputs": [
    {
     "data": {
      "text/plain": [
       "'The All Rwanda population of males is 100000 lower compared to the previous year. The Rural population of males is 100000 lower compared to the previous year. The Urban population of males is the same as the previous year.'"
      ]
     },
     "execution_count": 8,
     "metadata": {},
     "output_type": "execute_result"
    }
   ],
   "source": [
    "import pandas as pd \n",
    "\n",
    "# Generate fake data\n",
    "data1 = {'Geography': ['All Rwanda', 'Rural', 'Urban'],\n",
    "        'Males': [500000, 200000, 300000],\n",
    "        'Females': [550000, 250000, 350000]}\n",
    "\n",
    "data2 = {'Geography': ['All Rwanda', 'Rural', 'Urban'],\n",
    "        'Males': [600000, 300000, 300000],\n",
    "        'Females': [650000, 350000, 350000]}\n",
    "\n",
    "\n",
    "# Create a pandas DataFrame from the dictionary\n",
    "df1 = pd.DataFrame(data1)\n",
    "df2 = pd.DataFrame(data2)\n",
    "\n",
    "# Create conditional text container using lists (gender has to be specified as a single argument, geographies can be a list argument)\n",
    "def TextPopulation(df1, df2, geographies, gender): \n",
    "  \n",
    "    # Create a list to store the results\n",
    "    results = []\n",
    "    \n",
    "    # Loop through each geography and compare the population\n",
    "    for geo in geographies:\n",
    "        row1 = df1[df1['Geography'] == geo].iloc[0]\n",
    "        row2 = df2[df2['Geography'] == geo].iloc[0]\n",
    "        \n",
    "        if row1[gender] > row2[gender]:\n",
    "            result = f\"The {geo} population of {gender.lower()} is {row1[gender] - row2[gender]} higher compared to the previous year.\"\n",
    "        elif row1[gender] < row2[gender]:\n",
    "            result = f\"The {geo} population of {gender.lower()} is {row2[gender] - row1[gender]} lower compared to the previous year.\"\n",
    "        else:\n",
    "            result = f\"The {geo} population of {gender.lower()} is the same as the previous year.\"\n",
    "        \n",
    "        results.append(result)\n",
    "    \n",
    "    # Join the results into a single text and return\n",
    "    return ' '.join(results)\n",
    "\n",
    "geographies = ['All Rwanda', 'Rural', 'Urban']\n",
    "\n",
    "TextPopulation(df1, df2, geographies, 'Males')"
   ]
  }
 ],
 "metadata": {
  "kernelspec": {
   "display_name": "Python 3 (ipykernel)",
   "language": "python",
   "name": "python3"
  },
  "language_info": {
   "codemirror_mode": {
    "name": "ipython",
    "version": 3
   },
   "file_extension": ".py",
   "mimetype": "text/x-python",
   "name": "python",
   "nbconvert_exporter": "python",
   "pygments_lexer": "ipython3",
   "version": "3.9.12"
  }
 },
 "nbformat": 4,
 "nbformat_minor": 5
}
